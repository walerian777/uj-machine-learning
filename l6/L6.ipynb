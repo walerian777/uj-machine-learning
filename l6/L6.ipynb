{
 "cells": [
  {
   "cell_type": "markdown",
   "metadata": {},
   "source": [
    "# L6\n",
    "\n",
    "Na tych ćwiczeniach omówimy:\n",
    "* model evaluation,\n",
    "* model selection,\n",
    "* data augmentation.\n"
   ]
  },
  {
   "cell_type": "markdown",
   "metadata": {},
   "source": [
    "## Cross validation - przypomnienie\n",
    "\n",
    "Najprostszym sposobem na ocenę skuteczności modelu jest podzielenie danych w losowy sposób na zbiory trenujący i testowy, wytrenowanie modelu na zbiorze trenującym i przetestowanie na zbiorze testowym. Cross validation stosujemy w celu zmniejszenia wariancji estymatora losowego podziału.\n",
    "\n",
    "### Zasada działania\n",
    "\n",
    "Robimy jeden duży podział - dzielimy cały zbiór na $k$ rozłącznych podzbiorów i potem $k$ razy zbiór trenujący składamy z $k-1$ kawałków, a ostatniego używamy jako zbiór testowy. Dzięki temu każdy element $D$ będzie dokładnie raz w zbiorze testowym.\n",
    "\n",
    "<img src=\"figures/L3/K-fold_cross_validation_EN.jpg\">\n",
    "\n",
    "### Leave one out\n",
    "\n",
    "Szczególnym przypadkiem jest podejście leave one out, gdzie zbiór testowy jest zawsze jednoelementowy ($k$ jest równe liczbie przykładów)."
   ]
  },
  {
   "cell_type": "markdown",
   "metadata": {},
   "source": [
    "## Model evaluation\n",
    "\n",
    "Model evaluation to cała rodzina algorytmów estymowania skuteczności nauczonego modelu. Oczywiście interesuje nas to, jak model poradzi sobie na danych, które będą pojawiały się \"w prawdziwym świecie\", a więc na danych pochodzących z tego samego źródła, co zbiór treningowy, lecz niekoniecznie identycznych (dane takie same, a nie te same).\n",
    "\n",
    "### Dane i.i.d.\n",
    "\n",
    "W najprostszym przypadku zakładamy, że dane pochodzą z tego samego rozkładu, więc możemy np.:\n",
    "* podzielić dane losowo na zbiór trenujący i testowy,\n",
    "* wykonać powyższe wielokrotnie i uśrednić wynik,\n",
    "* użyć cross validation,\n",
    "* użyć leave one out.\n",
    "\n",
    "Za każdym razem model jest uczony od nowa na zbiorze treningowym, a testowany tylko na danych ze zbioru testowego.\n",
    "\n",
    "W wypadku problemów klasyfikacji podział train/test możemy wykonać w sposób \"stratified\" - jeśli np. zbiór testowy stanowi 30% wszystkich danych, to dodatkowo wymuszamy, aby 30% danych z **każdej klasy** znalazło się w zbiorze testowym. Jest to szczególnie ważne w wypadku, gdy niektóre klasy są mało liczebne w naszych danych - w ten sposób zapobiegamy sytuacji, w której cała klasa zostanie pominięta w zbiorze treningowym lub testowym.\n",
    "\n",
    "### Dane nie i.i.d.\n",
    "\n",
    "Oczywiście w praktyce nie zawsze można sensownie uargumentować i.i.d. Przykładem niech będzie zbiór MNIST - każdy człowiek ma nieco inny charakter pisma, a zadanie polega na nauczeniu modelu, który dobrze radzi sobie na danych pochodzących od nowych ludzi. Dlatego też twórca MNISTa dostarcza podział train/test, który wykonany jest względem ludzi (w zbiorze treningowym znajdują się cyfry napisane przez ok. 250 osób, łącznie 60 tys. przykładów, w zbiorze testowym znajduje się 10 tys. przykładów pochodzących od innych osób). Dzięki temu sprawdzamy, czy model faktycznie generalizuje na nowy charakter pisma, a nie tylko zapamiętuje poszczególne osoby i ich styl.\n",
    "\n",
    "W tym notebooku będziemy dla prostoty używali wszystkich danych łącznie, ale należy pamiętać, co w ten sposób tak naprawdę sprawdzamy.\n",
    "\n",
    "### Szeregi czasowe\n",
    "\n",
    "Bardzo często dane pochodzą z szeregu czasowego, tzn. wiersze są postaci ($\\mathbf{x}$, $y$, timestamp). Jeśli zadanie polega na generalizacji w czasie - czyli oczekujemy, że nasz model będzie działał dobrze w przyszłości - to przy ewaluacji musimy wykonać podział train/test ze względu na czas (train to wszystkie dane przed pewną ustaloną datą, test to dane późniejsze). Temat szeregów czasowych wykracza poza ramy tego notebooka. "
   ]
  },
  {
   "cell_type": "markdown",
   "metadata": {},
   "source": [
    "## Model selection\n",
    "\n",
    "Modele opisane są dwoma zestawami liczb: parametrami i hiperparametrami.\n",
    "\n",
    "### Parametry\n",
    "\n",
    "Parametry to zmienne, które wyznaczane są algorytmicznie podczas uczenia modelu (jawnym wzorem, metodami iteracyjnymi itp.). Przykładem są wagi w regresji liniowej, wagi w sieciach neuronowych, support vectors w SVMach, progi w drzewach decyzyjnych.\n",
    "\n",
    "### Hiperparametry\n",
    "\n",
    "W odróżnieniu od parametrów, hiperparametry muszą być dobrane ręcznie przed rozpoczęciem uczenia. Hiperparametry kontrolują działanie modelu, pozwalają manipulować overfittingiem itp. Przykłady: stała C w regresji liniowej, architektura sieci neuronowej (liczba i rozmiar warstw, funkcje aktywacji), wymiar podprzestrzeni w PCA, liczba drzew w Random Forest.\n",
    "\n",
    "### Motywacja\n",
    "\n",
    "W założeniu hiperparametry pozwalają włączyć człowieka w proces uczenia modelu - człowiek potrafi dobrać hiperparametry, ponieważ posiada intuicję dotyczącą prawdziwego świata i, w przeciwieństwie do maszyny, rozumie dany task znacznie głębiej oraz potrafi poprawnie zinterpretować działanie hiperparametrów. Natomiast znalezieniem parametrów, co jest zadaniem żmudnym, ale dobrze zdefiniowanym, może zająć się komputer.\n",
    "\n",
    "Oczywiście to wszystko nieprawda - człowiek wcale nie ma lepszej intuicji, a zezwolenie na ręczny dobór hiperparametrów prowadzi do różnych patologii (np. testujemy dziesiątki tysięcy zestawów hiperparametów i publikujemy najlepszy wynik - zamiast dostać lepszy model zoverfitowaliśmy się do danych).\n",
    "\n",
    "Dlatego przyjmijmy na tę chwilę inną definicję - hiperparametry (tym razem z definicji!) różnią się od parametrów tym, że nie da się ich zoptymalizować gradientowo lub jawnym wzorem. Model selection to po prostu algorytm doboru hiperparametrów.\n",
    "\n",
    "### Przykład\n",
    "\n",
    "Załóżmy, że mamy zbiór (X_train, y_train) oraz klasę Model, która przyjmuje w konstruktorze zestaw hiperparametrów. Możemy zrobić następująco:\n",
    "* stworzyć listę zestawów hiperparametrów i dla każdego stworzyć obiekt model = Model(zestaw_hiperparametrów),\n",
    "* ocenić wszystkie modele na danych (X_train, y_train),\n",
    "* wybrać ten zestaw hiperparametrów, dla którego model uzyskał najlepszy wynik.\n",
    "\n",
    "### Jak stworzyć listę zestawów hiperparametrów\n",
    "\n",
    "Zamieniliśmy problem ręcznego doboru hiperparametrów na ręczne tworzenie listy zestawów hiperparametrów - czy w takim razie wciąż nie oszukujemy? Trochę tak, ale na szczęście trochę mniej.\n",
    "\n",
    "Jak w praktyce tworzy się listę zestawów hiperparametrów:\n",
    "1. Grid search - dla każdego hiperparametru arbitralnie tworzymy listę jego możliwych wartości, a następnie sprawdzamy wszystkie możliwe zestawy (problem: dla 10 hiperparametrów i 10 możliwości każdego z nich musimy wytrenować $10^{10}$ modelów).\n",
    "2. Random grid search - robimy jak powyżej, ale losujemy $n$ zestawów ($n$ dobieramy ręcznie, np. 43) zamiast sprawdzać wszystkie.\n",
    "3. Random search - dla danego hiperparametru nie definiujemy listy jego możliwych wartości, ale rozkład, z którego będziemy go losowali (np. losujemy $\\alpha$ z rozkładu jednostajnego na odcinku $[-5,5]$, a potem definiujemy hiperparametr regresji liniowej $C=10^{\\alpha}$); następnie zestaw hiperparametrów tworzymy losując każdy niezależnie z podanego rozkładu.\n",
    "\n",
    "Podejście trzecie jest zdecydowanie najlepsze, co obrazuje poniższa ilustracja [proszę spróbować wytłumaczyć].\n",
    "\n",
    "<img width=600 src=\"figures/L6/scikitlearn8.jpeg\">\n",
    "\n",
    "### * Optymalizacja bayesowska\n",
    "\n",
    "Można robić jeszcze lepiej, niż random search. Rozkłady podane w random search traktujemy jako naszą wiedzę a priori o położeniu najlepszego zestawu hiperparametrów, a następnie po każdym losowaniu ewaluujemy model i uzyskany wynik włączamy do naszej wiedzy. Szczegóły są nieco skomplikowane (musimy założyć trochę dodatkowych własności o tym, jak wynik modelu zależy od położenia w przestrzeni hiperparametrów), natomiast zainteresowane osoby mogą spróbować zapoznać się np. z następującymi implementacjami:\n",
    "* http://hyperopt.github.io/hyperopt/\n",
    "* https://github.com/msmbuilder/osprey"
   ]
  },
  {
   "cell_type": "markdown",
   "metadata": {},
   "source": [
    "## Podsumowanie\n",
    "\n",
    "Zakładamy, że Model to klasa, a model to instancja. Model przyjmuje w konstruktorze wszystkie hiperparametry. Dane to (X,y). Model selection i model evaluation wykonujemy przy pomocy 3-fold cross validation. Ustalamy też listę zestawów hiperparametrów.\n",
    "\n",
    "### Ważna i subtelna uwaga\n",
    "\n",
    "Techniki model evaluation możemy stosować tylko do konkretnych algorytmów. Dlatego nie możemy zewaluować regresji liniowiej, tylko np. regresję liniową ze stałą C=3. Nie możemy ewaluować klasy Model, tylko obiekt model.\n",
    "\n",
    "Ale gdy zdecydujemy się na pewien algorytm doboru hiperparametrów, to możemy zapisać:\n",
    "\n",
    "(Model + model_selection) = metamodel\n",
    "\n",
    "gdzie metamodel da się fitować (parametry **oraz hiperparametry** zostaną dobrane automatycznie tylko na podstawie danych). W tym sensie możemy ewaluować klasę Model.\n",
    "\n",
    "Warto też zwrócić uwagę, że dla różnych model_selection dostaniemy różne metamodele. Np. jeśli raz za model_selection użyjemy strategii cross validation z 3 foldami, a za drugim razem np. leave one out, to te dwa metamodele będą miały różną zasadę działania i przez to inny score (nawet jeśli w obu przypadkach Model to np. regresja liniowa).\n",
    "\n",
    "### Algorytmy\n",
    "\n",
    "Aby zewaluować Model (metamodel):\n",
    "1. Dzielimy trzy razy (X,y) na (X_train,y_train), (X_test,y_test).\n",
    "2. Dla każdego takiego podziału:\n",
    "    1. Dzielimy trzy razy (X_train,y_train) na (X_train2,y_train2), (X_valid,y_valid).\n",
    "    2. Dla każdego zestawu hiperparametrów:\n",
    "        1. Dla każdego podziału (X_train2,y_train2), (X_valid,y_valid):\n",
    "            1. Tworzymy model = Model(zestaw_hiperparametrów).\n",
    "            2. Uczymy model na (X_train2,y_train2), testujemy na (X_valid,y_valid) i otrzymujemy score.\n",
    "            3. (zestaw_hiperparametrów, score) zapisujemy w tabelce.\n",
    "    3. Dla każdego zestawu hiperparametrów mamy trzy różne score z trzech podziałów - uśredniamy je.\n",
    "    4. Wybieramy średnio najlepszy zestaw hiperparametrów.\n",
    "    5. Tworzymy model = Model(średnio_najlepszy_zestaw_hiperparametrów) i uczymy na całym (X_train,y_train).\n",
    "    6. Testujemy model na (X_test,y_test) i otrzymujemy evaluation_score, zapisujemy go.\n",
    "3. Uśredniamy trzy evaluation_score, zwracamy średnią jako ostateczny score Modelu.\n",
    "\n",
    "Uwaga - dla różnych (X_train,y_train) mamy różne ostatecznie wybrane średnio_najlepszy_zestaw_hiperparametrów, tak właśnie ma być [proszę się zastanowić, dlaczego].\n",
    "\n",
    "Aby wytrenować metamodel:\n",
    "1. Dzielimy trzy razy (X,y) na (X_train,y_train), (X_valid,y_valid).\n",
    "2. Dla każdego zestawu hiperparametrów:\n",
    "    1. Dla każdego podziału (X_train,y_train), (X_valid,y_valid):\n",
    "        1. Tworzymy model = Model(zestaw_hiperparametrów).\n",
    "        2. Uczymy model na (X_train,y_train), testujemy na (X_valid,y_valid) i otrzymujemy score.\n",
    "        3. (zestaw_hiperparametrów, score) zapisujemy w tabelce.\n",
    "3. Dla każdego zestawu hiperparametrów mamy trzy różne score z trzech podziałów - uśredniamy je.\n",
    "4. Wybieramy średnio najlepszy zestaw hiperparametrów.\n",
    "5. Tworzymy model = Model(średnio_najlepszy_zestaw_hiperparametrów) i uczymy na całym (X,y).\n",
    "\n",
    "Uwaga - teraz mamy tylko jeden średnio_najlepszy_zestaw_hiperparametrów i jeden model.\n",
    "\n",
    "W ten sposób otrzymujemy:\n",
    "1. model - ten model (wytrenowany metamodel) idzie do produkcji.\n",
    "2. score - estymacja skuteczności klasy Model jest dość dobrą estymacją tego, jak model poradzi sobie w przyszłości.\n",
    "3. średnio_najlepszy_zestaw_hiperparametrów - informacyjnie możemy też podać znaleziony najlepszy zestaw hiperparametrów, jednakże w tym momencie nie różni się on koncepcyjnie od wytrenowanego zestawu **parametrów**; nie możemy twierdzić, że te hiperparametry będą zawsze najlepsze, ponieważ ucząc się na innych danych możemy dostać inne wartości średnio najlepszych hiperparametrów."
   ]
  },
  {
   "cell_type": "code",
   "execution_count": 1,
   "metadata": {
    "collapsed": false
   },
   "outputs": [],
   "source": [
    "import matplotlib.pylab as plt\n",
    "%matplotlib inline\n",
    "import numpy as np\n",
    "from numpy.random import RandomState\n",
    "from itertools import product\n",
    "\n",
    "# dane\n",
    "from sklearn.datasets import fetch_mldata\n",
    "# splity\n",
    "from sklearn.model_selection import train_test_split\n",
    "from sklearn.model_selection import StratifiedKFold\n",
    "# modele\n",
    "from sklearn.neighbors import KNeighborsClassifier\n",
    "from sklearn.ensemble import RandomForestClassifier\n",
    "from sklearn.svm import LinearSVC, SVC\n",
    "# metryki\n",
    "from sklearn.metrics import accuracy_score\n",
    "\n",
    "mnist = fetch_mldata('MNIST original')\n",
    "X = mnist[\"data\"]\n",
    "y = mnist[\"target\"]\n",
    "\n",
    "# zawsze przed uczeniem/splitami proszę zrobić shuffle na danych!"
   ]
  },
  {
   "cell_type": "markdown",
   "metadata": {},
   "source": [
    "Czego będziemy używać:\n",
    "* http://scikit-learn.org/stable/modules/generated/sklearn.model_selection.StratifiedKFold.html\n",
    "* http://scikit-learn.org/stable/modules/generated/sklearn.svm.LinearSVC.html\n",
    "* http://scikit-learn.org/stable/modules/generated/sklearn.svm.SVC.html\n",
    "* http://scikit-learn.org/stable/modules/generated/sklearn.ensemble.RandomForestClassifier.html\n",
    "* http://scikit-learn.org/stable/modules/generated/sklearn.neighbors.KNeighborsClassifier.html\n",
    "* http://yann.lecun.com/exdb/mnist/"
   ]
  },
  {
   "cell_type": "markdown",
   "metadata": {},
   "source": [
    "Uwaga - modele będą się uczyły dłużej, niż zwykle. Warto dodać w kodzie dużo printów, żeby na bieżąco wiedzieć, co się dzieje.\n",
    "\n",
    "Na etapie pisania i testowania kodu można też zmniejszyć sobie losowo MNISTa np. do 5% przykładów, aby testy przebiegały szybciej."
   ]
  },
  {
   "cell_type": "markdown",
   "metadata": {},
   "source": [
    "## Ćwiczenie 1 [2 pkt]\n",
    "\n",
    "Napisać trzy generatory zestawów hiperparametrów:\n",
    "* generator grid search [robimy wspólnie za 0 pkt],\n",
    "* generator k elementów random grid search,\n",
    "* generator k elementów random search.\n",
    "\n",
    "Hiperparametry podajemy jako słownik {nazwa_hiperparametru: lista_wartości/rozkład}.\n",
    "\n",
    "Generator ma yieldować słowniki {nazwa_hiperparametru: wartość_hiperparametru}\n",
    "\n",
    "Rozkłady prawdopodobieństwa możecie Państwo podawać w dowolny sposób - np. jako pythonową funkcję, jako string z nazwą (a możliwe rozkłady zakodować na sztywno w funkcji zwracającej generatory) itp. Proponuję zastosować konwencję opisaną w następnej komórce [czy ktoś z Państwa ma inny pomysł, jak podawać rozkłady?].\n",
    "\n",
    "Losowe generatory mają przyjmować random_state i działać deterministycznie przy ustalonym random_state (należy ustawić w środku seed generatora liczb losowych na random_state).\n"
   ]
  },
  {
   "cell_type": "code",
   "execution_count": 2,
   "metadata": {
    "collapsed": true
   },
   "outputs": [],
   "source": [
    "# Tworzymy fabryki samplerów, każda fabryka parametryzuje pewną rodzinę rozkładów prawdopodobieństwa\n",
    "# sampler pamięta jeden konkretny rozkład prawdopodobieństwa\n",
    "# jedynym argumentem samplera jest obiekt numpy.random.RandomState, który oznaczamy rng\n",
    "# sampler zwraca jedną wartość ze swojego rozkładu\n",
    "# ponieważ rng pamięta swój stan, to możemy np. raz stworzyć go na początku i podawać w pętli\n",
    "\n",
    "# rodzina rozkładów jednostajnych na podanych listach elementów\n",
    "# sampler losuje z rozkładu jednostajnego na liście l\n",
    "def uniform_from_list(l):\n",
    "    def sampler(rng):\n",
    "        return l[rng.randint(0,len(l))]\n",
    "    return sampler\n",
    "\n",
    "# rodzina rozkładów jednostajnych na przedziałach liczb całkowitych\n",
    "# sampler losuje z rozkładu jednostajnego na podzbiorze liczb całkowitych od low (włącznie) do high (wyłącznie)\n",
    "def uniform_int_on_interval(low, high):\n",
    "    def sampler(rng):\n",
    "        return rng.randint(low,high)\n",
    "    return sampler\n",
    "\n",
    "# rodzina rozkładów jednostajnych na przedziałach\n",
    "# sampler losuje z rozkładu jednostajnego na przedziale [low, high]\n",
    "def uniform_on_interval(low, high):\n",
    "    def sampler(rng):\n",
    "        return rng.uniform(low, high)\n",
    "    return sampler\n",
    "\n",
    "# rodzina rozkładów jednostajnych na przedziałach w wykładniku potęgi liczby 10\n",
    "# sampler losuje liczbę alpha z rozkładu jednostajnego na przedziale [low, high], a następnie zwraca 10^alpha\n",
    "def log_uniform_on_interval(low, high):\n",
    "    def sampler(rng):\n",
    "        return 10.**rng.uniform(low, high)\n",
    "    return sampler\n",
    "\n",
    "# rodzina rozkładów gaussa\n",
    "# sampler losuje liczbę z rozkładu N(mean, std^2)\n",
    "def normal(mean, std):\n",
    "    def sampler(rng):\n",
    "        return rng.normal(loc=mean, scale=std)\n",
    "    return sampler\n",
    "\n",
    "# rodzina rozkładów gaussa w wykładniku potęgi liczby 10\n",
    "# sampler losuje liczbę alpha z rozkładu N(mean, std^2), a następnie zwraca 10^alpha\n",
    "def log_normal(mean, std):\n",
    "    def sampler(rng):\n",
    "        return 10**rng.normal(loc=mean, scale=std)\n",
    "    return sampler"
   ]
  },
  {
   "cell_type": "code",
   "execution_count": 3,
   "metadata": {
    "collapsed": false
   },
   "outputs": [
    {
     "name": "stdout",
     "output_type": "stream",
     "text": [
      "Tworzymy obiekt klasy RandomState\n",
      "Losujemy...\n",
      "-0.842587612353 0.000472401243122 0\n",
      "0.153322909413 543.807159801 -2\n",
      "-0.341758747593 1765.13251908 3\n",
      "-0.593715774857 8.32922889041 -1\n",
      "\n",
      "Resetujemy RandomState\n",
      "Losujemy...\n",
      "-0.842587612353 0.000472401243122 0\n",
      "0.153322909413 543.807159801 -2\n",
      "-0.341758747593 1765.13251908 3\n",
      "-0.593715774857 8.32922889041 -1\n",
      "\n",
      "Resetujemy RandomState\n",
      "Losujemy w innej kolejności, wypisujemy w starej...\n",
      "-1.50310753692 5.57429041087 4\n",
      "0.394467225601 0.000472401243122 0\n",
      "0.343807964283 543.807159801 0\n",
      "-0.775106170237 1765.13251908 4\n",
      "\n",
      "samplery współdzielą rng, kolejność losowania ma znaczenie!\n"
     ]
    }
   ],
   "source": [
    "print \"Tworzymy obiekt klasy RandomState\"\n",
    "rng = RandomState(743)\n",
    "s1 = normal(0.,1.)\n",
    "s2 = log_uniform_on_interval(-4.,4.)\n",
    "s3 = uniform_int_on_interval(-2,5)\n",
    "print \"Losujemy...\"\n",
    "for _ in xrange(4):\n",
    "    print s1(rng), s2(rng), s3(rng)\n",
    "\n",
    "print \"\"\n",
    "print \"Resetujemy RandomState\"\n",
    "rng = RandomState(743)\n",
    "s1 = normal(0.,1.)\n",
    "s2 = log_uniform_on_interval(-4.,4.)\n",
    "s3 = uniform_int_on_interval(-2,5)\n",
    "print \"Losujemy...\"\n",
    "for _ in xrange(4):\n",
    "    print s1(rng), s2(rng), s3(rng)\n",
    "\n",
    "print \"\"\n",
    "print \"Resetujemy RandomState\"\n",
    "rng = RandomState(743)\n",
    "s1 = normal(0.,1.)\n",
    "s2 = log_uniform_on_interval(-4.,4.)\n",
    "s3 = uniform_int_on_interval(-2,5)\n",
    "print \"Losujemy w innej kolejności, wypisujemy w starej...\"\n",
    "for _ in xrange(4):\n",
    "    _s3 = s3(rng)\n",
    "    _s2 = s2(rng)\n",
    "    _s1 = s1(rng)\n",
    "    print _s1, _s2, _s3\n",
    "\n",
    "print \"\"\n",
    "print \"samplery współdzielą rng, kolejność losowania ma znaczenie!\""
   ]
  },
  {
   "cell_type": "code",
   "execution_count": 10,
   "metadata": {
    "collapsed": false
   },
   "outputs": [],
   "source": [
    "def grid_search(grid):\n",
    "    (keys, values_grid) = zip(*grid.iteritems())\n",
    "    for values in product(*values_grid):\n",
    "        yield dict(zip(keys, values))\n",
    "\n",
    "def random_grid_search(grid, k=20, random_state=43):\n",
    "    rng = RandomState(random_state) # ustalamy jeden wspólny rng\n",
    "    (keys, values_grid) = zip(*grid.iteritems())\n",
    "    # wysamplować k zestawów hiperparametrów\n",
    "    sampler = uniform_from_list(list(product(*values_grid)))\n",
    "    for _ in range(k):\n",
    "        yield dict(zip(keys, sampler(rng)))\n",
    "\n",
    "def random_search(grid, k=20, random_state=43):\n",
    "    rng = RandomState(random_state) # ustalamy jeden wspólny rng\n",
    "    (keys, samplers) = zip(*sorted(grid.iteritems())) # sortujemy klucze, kolejność samplowania jest ważna!\n",
    "    # wysamplować k zestawów hiperparametrów\n",
    "    for _ in range(k):\n",
    "        values = [sampler(rng) for sampler in samplers]\n",
    "        yield dict(zip(keys, values))\n"
   ]
  },
  {
   "cell_type": "code",
   "execution_count": 11,
   "metadata": {
    "collapsed": false
   },
   "outputs": [
    {
     "name": "stdout",
     "output_type": "stream",
     "text": [
      "{'C': 0.1, 'gamma': 0.0001}\n",
      "{'C': 0.1, 'gamma': 0.0003}\n",
      "{'C': 0.1, 'gamma': 0.001}\n",
      "{'C': 1.0, 'gamma': 0.0001}\n",
      "{'C': 1.0, 'gamma': 0.0003}\n",
      "{'C': 1.0, 'gamma': 0.001}\n",
      "{'C': 10.0, 'gamma': 0.0001}\n",
      "{'C': 10.0, 'gamma': 0.0003}\n",
      "{'C': 10.0, 'gamma': 0.001}\n",
      "{'C': 100.0, 'gamma': 0.0001}\n",
      "{'C': 100.0, 'gamma': 0.0003}\n",
      "{'C': 100.0, 'gamma': 0.001}\n"
     ]
    }
   ],
   "source": [
    "# assert dla grid_search\n",
    "for d in grid_search({'C': [0.1, 1., 10., 100.], 'gamma': [0.0001, 0.0003, 0.001]}):\n",
    "    print d"
   ]
  },
  {
   "cell_type": "markdown",
   "metadata": {},
   "source": [
    "{'C': 0.1, 'gamma': 0.0001}<br/>\n",
    "{'C': 0.1, 'gamma': 0.0003}<br/>\n",
    "{'C': 0.1, 'gamma': 0.001}<br/>\n",
    "{'C': 1.0, 'gamma': 0.0001}<br/>\n",
    "{'C': 1.0, 'gamma': 0.0003}<br/>\n",
    "{'C': 1.0, 'gamma': 0.001}<br/>\n",
    "{'C': 10.0, 'gamma': 0.0001}<br/>\n",
    "{'C': 10.0, 'gamma': 0.0003}<br/>\n",
    "{'C': 10.0, 'gamma': 0.001}<br/>\n",
    "{'C': 100.0, 'gamma': 0.0001}<br/>\n",
    "{'C': 100.0, 'gamma': 0.0003}<br/>\n",
    "{'C': 100.0, 'gamma': 0.001}"
   ]
  },
  {
   "cell_type": "code",
   "execution_count": 6,
   "metadata": {
    "collapsed": true
   },
   "outputs": [],
   "source": [
    "# assert dla random_grid_search\n",
    "# ma wyjść tak samo, jak random_search, tylko z podanymi samplerami uniform_from_list\n",
    "# proszę sobie sprawdzić we własnym zakresie, my uwierzymy na słowo"
   ]
  },
  {
   "cell_type": "code",
   "execution_count": 12,
   "metadata": {
    "collapsed": false
   },
   "outputs": [
    {
     "name": "stdout",
     "output_type": "stream",
     "text": [
      "{'C': 0.00014143134252521947, 'nb_sth': 9, 'gamma': 0.06090665392794814}\n",
      "{'C': 0.0025462216096392796, 'nb_sth': 13, 'gamma': 0.03271390558111398}\n",
      "{'C': 5.590022241698091e-05, 'nb_sth': 1, 'gamma': 0.004505286023886656}\n",
      "{'C': 1.950465371399982e-05, 'nb_sth': 13, 'gamma': 0.0733748296280283}\n",
      "{'C': 0.0002976304542098269, 'nb_sth': 13, 'gamma': 0.0011286104130902254}\n",
      "{'C': 3.705521747936987e-05, 'nb_sth': 22, 'gamma': 0.08666486408992002}\n",
      "{'C': 31.420766577465653, 'nb_sth': 22, 'gamma': 0.05808772319264447}\n",
      "{'C': 5.842880444285076e-05, 'nb_sth': 1, 'gamma': 0.08432246942297046}\n",
      "{'C': 16.058920736060898, 'nb_sth': 22, 'gamma': 0.04037700398666926}\n",
      "{'C': 35065.59811614318, 'nb_sth': 22, 'gamma': 0.04457583608397189}\n",
      "{'C': 6.683446823678905e-05, 'nb_sth': 13, 'gamma': 0.08970985799815344}\n",
      "{'C': 965.8767858660282, 'nb_sth': 1, 'gamma': 0.0332329385020804}\n",
      "{'C': 0.28068153065434537, 'nb_sth': 1, 'gamma': 0.08247676837174123}\n",
      "{'C': 12207.52376193616, 'nb_sth': 13, 'gamma': 0.09101530757801567}\n",
      "{'C': 0.00015294037493259258, 'nb_sth': 9, 'gamma': 0.09375550594407336}\n"
     ]
    }
   ],
   "source": [
    "for d in random_search(\n",
    "        {'C': log_uniform_on_interval(-5., 5.),\n",
    "         'gamma': uniform_on_interval(0.,0.1),\n",
    "         'nb_sth': uniform_from_list([1,4,9,13,22])},\n",
    "        k=15,\n",
    "        random_state=43):\n",
    "    print d"
   ]
  },
  {
   "cell_type": "markdown",
   "metadata": {},
   "source": [
    "{'C': 0.00014143134252521947, 'nb_sth': 9, 'gamma': 0.06090665392794814}<br/>\n",
    "{'C': 0.0025462216096392796, 'nb_sth': 13, 'gamma': 0.03271390558111398}<br/>\n",
    "{'C': 5.590022241698091e-05, 'nb_sth': 1, 'gamma': 0.004505286023886656}<br/>\n",
    "{'C': 1.950465371399982e-05, 'nb_sth': 13, 'gamma': 0.0733748296280283}<br/>\n",
    "{'C': 0.0002976304542098269, 'nb_sth': 13, 'gamma': 0.0011286104130902254}<br/>\n",
    "{'C': 3.705521747936987e-05, 'nb_sth': 22, 'gamma': 0.08666486408992002}<br/>\n",
    "{'C': 31.420766577465653, 'nb_sth': 22, 'gamma': 0.05808772319264447}<br/>\n",
    "{'C': 5.842880444285076e-05, 'nb_sth': 1, 'gamma': 0.08432246942297046}<br/>\n",
    "{'C': 16.058920736060898, 'nb_sth': 22, 'gamma': 0.04037700398666926}<br/>\n",
    "{'C': 35065.59811614318, 'nb_sth': 22, 'gamma': 0.04457583608397189}<br/>\n",
    "{'C': 6.683446823678905e-05, 'nb_sth': 13, 'gamma': 0.08970985799815344}<br/>\n",
    "{'C': 965.8767858660282, 'nb_sth': 1, 'gamma': 0.0332329385020804}<br/>\n",
    "{'C': 0.28068153065434537, 'nb_sth': 1, 'gamma': 0.08247676837174123}<br/>\n",
    "{'C': 12207.52376193616, 'nb_sth': 13, 'gamma': 0.09101530757801567}<br/>\n",
    "{'C': 0.00015294037493259258, 'nb_sth': 9, 'gamma': 0.09375550594407336}"
   ]
  },
  {
   "cell_type": "markdown",
   "metadata": {},
   "source": [
    "## Ćwiczenie 2 [0 pkt]\n",
    "\n",
    "Zaimplementować algorytm model selection z użyciem cross validation (StratifiedKFold w sklearn) zgodnie z opisem w sekcji \"Podsumowanie\"."
   ]
  },
  {
   "cell_type": "code",
   "execution_count": 13,
   "metadata": {
    "collapsed": false
   },
   "outputs": [],
   "source": [
    "def skf_model_selection(Model, hyperparams_generator, X, y, metric, n_splits, random_state):\n",
    "    \"\"\"\n",
    "    Model - klasa modelu\n",
    "    hyperparams_generator - generator hiperparametrów\n",
    "    X,y - dane i etykiety\n",
    "    metric - funkcja o sygnaturze metric(y_true, y_pred), która ocenia skuteczność nauczonego modelu\n",
    "    n_splits - liczba splitów/foldów w cross validation\n",
    "    random_state - używany wszędzie tam, gdzie trzeba\n",
    "    \"\"\"\n",
    "    \n",
    "    scores = []\n",
    "    tested_hyperparams = []\n",
    "    \n",
    "    # Aby wytrenować metamodel:\n",
    "    # 1. Dzielimy n_splits (X,y) na (X_train,y_train), (X_valid,y_valid).\n",
    "        # dla przejrzystości algorytmu zapamiętujemy indeksy podziału w liście indices\n",
    "        # w normalnym kodzie trzeba np. wielokrotnie stworzyć generator skf głębiej w pętli\n",
    "    indices = []\n",
    "    skf = StratifiedKFold(n_splits=n_splits, random_state=random_state, shuffle=True)\n",
    "    for train_index, valid_index in skf.split(X,y):\n",
    "        indices.append((train_index, valid_index))\n",
    "    # 2. Dla każdego zestawu hiperparametrów:\n",
    "    for hyperparams in hyperparams_generator:\n",
    "        # 1. Dla każdego podziału (X_train,y_train), (X_valid,y_valid):\n",
    "        scores.append([])\n",
    "        print \"Testujemy hiperparametry:\", hyperparams\n",
    "        for i, (train_index, valid_index) in enumerate(indices):\n",
    "            X_train, y_train = X[train_index], y[train_index]\n",
    "            X_valid, y_valid = X[valid_index], y[valid_index]\n",
    "            # 1. Tworzymy model = Model(zestaw_hiperparametrów).\n",
    "            model = Model(**hyperparams)\n",
    "            # 2. Uczymy model na (X_train,y_train), testujemy na (X_valid,y_valid) i otrzymujemy score.\n",
    "            print \"Uczymy model - split \" + str(i+1) + \"/\" + str(n_splits) + \"...\"\n",
    "            model.fit(X_train, y_train)\n",
    "            print \"Liczymy score...\"\n",
    "            score = metric(y_valid, model.predict(X_valid)) # w zależności od metryki czasem używa się model.predict_proba, tu zakładamy, że metryka jest typu 'accuracy'\n",
    "            print \"Train score:\", metric(y_train, model.predict(X_train))\n",
    "            print \"Valid score:\", score\n",
    "            # 3. (zestaw_hiperparametrów, score) zapisujemy w tabelce.\n",
    "            scores[-1].append(score)\n",
    "        tested_hyperparams.append(hyperparams)\n",
    "    # 3. Dla każdego zestawu hiperparametrów mamy trzy różne score z trzech podziałów - uśredniamy je.\n",
    "    avg_scores = [np.mean(scores_for_single_hyperparams) for scores_for_single_hyperparams in scores]\n",
    "    # 4. Wybieramy średnio najlepszy zestaw hiperparametrów.\n",
    "    best_hyperparams = tested_hyperparams[np.argmax(avg_scores)]\n",
    "    print \"Najlepszy zestaw hiperparametrów:\", best_hyperparams\n",
    "    # 5. Tworzymy model = Model(średnio_najlepszy_zestaw_hiperparametrów) i uczymy na całym (X,y).\n",
    "    best_model = Model(**best_hyperparams)\n",
    "    print \"Uczymy najlepszy model...\"\n",
    "    best_model.fit(X, y)\n",
    "    # Uwaga - teraz mamy tylko jeden średnio_najlepszy_zestaw_hiperparametrów i jeden model.\n",
    "    return best_model, best_hyperparams\n"
   ]
  },
  {
   "cell_type": "code",
   "execution_count": 14,
   "metadata": {
    "collapsed": false
   },
   "outputs": [
    {
     "name": "stdout",
     "output_type": "stream",
     "text": [
      "Testujemy hiperparametry: {'n_neighbors': 2, 'leaf_size': 20}\n",
      "Uczymy model - split 1/2...\n",
      "Liczymy score...\n",
      "Train score: 0.954636424283\n",
      "Valid score: 0.893404397069\n",
      "Uczymy model - split 2/2...\n",
      "Liczymy score...\n",
      "Train score: 0.950699533644\n",
      "Valid score: 0.886591060707\n",
      "Testujemy hiperparametry: {'n_neighbors': 2, 'leaf_size': 30}\n",
      "Uczymy model - split 1/2...\n",
      "Liczymy score...\n",
      "Train score: 0.954636424283\n",
      "Valid score: 0.893404397069\n",
      "Uczymy model - split 2/2...\n",
      "Liczymy score...\n",
      "Train score: 0.950699533644\n",
      "Valid score: 0.886591060707\n",
      "Testujemy hiperparametry: {'n_neighbors': 2, 'leaf_size': 40}\n",
      "Uczymy model - split 1/2...\n",
      "Liczymy score...\n",
      "Train score: 0.954636424283\n",
      "Valid score: 0.893404397069\n",
      "Uczymy model - split 2/2...\n",
      "Liczymy score...\n",
      "Train score: 0.950699533644\n",
      "Valid score: 0.886591060707\n",
      "Testujemy hiperparametry: {'n_neighbors': 5, 'leaf_size': 20}\n",
      "Uczymy model - split 1/2...\n",
      "Liczymy score...\n",
      "Train score: 0.939959973316\n",
      "Valid score: 0.90872751499\n",
      "Uczymy model - split 2/2...\n",
      "Liczymy score...\n",
      "Train score: 0.942038640906\n",
      "Valid score: 0.904603068712\n",
      "Testujemy hiperparametry: {'n_neighbors': 5, 'leaf_size': 30}\n",
      "Uczymy model - split 1/2...\n",
      "Liczymy score...\n",
      "Train score: 0.939959973316\n",
      "Valid score: 0.90872751499\n",
      "Uczymy model - split 2/2...\n",
      "Liczymy score...\n",
      "Train score: 0.942038640906\n",
      "Valid score: 0.904603068712\n",
      "Testujemy hiperparametry: {'n_neighbors': 5, 'leaf_size': 40}\n",
      "Uczymy model - split 1/2...\n",
      "Liczymy score...\n",
      "Train score: 0.939959973316\n",
      "Valid score: 0.90872751499\n",
      "Uczymy model - split 2/2...\n",
      "Liczymy score...\n",
      "Train score: 0.942038640906\n",
      "Valid score: 0.904603068712\n",
      "Testujemy hiperparametry: {'n_neighbors': 8, 'leaf_size': 20}\n",
      "Uczymy model - split 1/2...\n",
      "Liczymy score...\n",
      "Train score: 0.917278185457\n",
      "Valid score: 0.898734177215\n",
      "Uczymy model - split 2/2...\n",
      "Liczymy score...\n",
      "Train score: 0.917388407728\n",
      "Valid score: 0.889259506338\n",
      "Testujemy hiperparametry: {'n_neighbors': 8, 'leaf_size': 30}\n",
      "Uczymy model - split 1/2...\n",
      "Liczymy score...\n",
      "Train score: 0.917278185457\n",
      "Valid score: 0.898734177215\n",
      "Uczymy model - split 2/2...\n",
      "Liczymy score...\n",
      "Train score: 0.917388407728\n",
      "Valid score: 0.889259506338\n",
      "Testujemy hiperparametry: {'n_neighbors': 8, 'leaf_size': 40}\n",
      "Uczymy model - split 1/2...\n",
      "Liczymy score...\n",
      "Train score: 0.917278185457\n",
      "Valid score: 0.898734177215\n",
      "Uczymy model - split 2/2...\n",
      "Liczymy score...\n",
      "Train score: 0.917388407728\n",
      "Valid score: 0.889259506338\n",
      "Najlepszy zestaw hiperparametrów: {'n_neighbors': 5, 'leaf_size': 20}\n",
      "Uczymy najlepszy model...\n"
     ]
    }
   ],
   "source": [
    "# przetestujmy powyższe na losowym podzbiorze MNISTa\n",
    "\n",
    "idx = np.random.RandomState(743).permutation(len(y))\n",
    "_X = X[idx[:3000]]\n",
    "_y = y[idx[:3000]]\n",
    "\n",
    "best_model, best_hyperparams = skf_model_selection(\n",
    "    Model=KNeighborsClassifier,\n",
    "    hyperparams_generator=grid_search({'n_neighbors': [2,5,8], 'leaf_size': [20,30,40]}),\n",
    "    X=_X, y=_y,\n",
    "    metric=accuracy_score,\n",
    "    n_splits=2,\n",
    "    random_state=43)"
   ]
  },
  {
   "cell_type": "markdown",
   "metadata": {},
   "source": [
    "## Ćwiczenie 3 [4 pkt]\n",
    "\n",
    "Zaimplementować algorytm model selection z użyciem podwójnej cross validation (StratifiedKFold w sklearn) zgodnie z opisem w sekcji \"Podsumowanie\"."
   ]
  },
  {
   "cell_type": "code",
   "execution_count": 35,
   "metadata": {
    "collapsed": false
   },
   "outputs": [],
   "source": [
    "def double_skf_model_evaluation(Model, generator_function, generator_function_kwargs, X, y, metric, selection_n_splits, evaluation_n_splits, random_state):\n",
    "    \"\"\"\n",
    "    Model - klasa modelu\n",
    "    generator_function, generator_function_kwargs - chcemy zrobić coś w stylu:\n",
    "        for hyperparams in generator_function(**generator_function_kwargs):\n",
    "            ...\n",
    "        nie podajemy wprost generatora, bo trzeba go użyć wielokrotnie, a generatorów (chyba?) nie da się kopiować\n",
    "    X,y - dane i etykiety\n",
    "    metric - funkcja o sygnaturze metric(y_true, y_pred), która ocenia skuteczność nauczonego modelu\n",
    "    selection/evaluation_n_splits - liczba splitów/foldów w odpowiednim cross validation\n",
    "    random_state - używany wszędzie tam, gdzie trzeba\n",
    "    \"\"\"\n",
    "\n",
    "    scores = []\n",
    "    # 1. Dzielimy evaluation_n_splits razy (X,y) na (X_train,y_train), (X_test,y_test).\n",
    "    skf = StratifiedKFold(n_splits = evaluation_n_splits, random_state = random_state, shuffle = True)\n",
    "    # 2. Dla każdego takiego podziału:\n",
    "    for train, test in skf.split(X, y):\n",
    "        X_train, y_train = X[train], y[train]\n",
    "        X_test, y_test = X[test], y[test]\n",
    "\n",
    "        # 1. Dzielimy selection_n_splits razy (X_train,y_train) na (X_train2,y_train2), (X_valid,y_valid).\n",
    "        inner_skf = StratifiedKFold(n_splits = selection_n_splits, random_state = random_state, shuffle = True)\n",
    "        inner_splits = []\n",
    "        for inner_train, inner_test in inner_skf.split(X_train, y_train):\n",
    "            inner_splits.append((inner_train, inner_test))\n",
    "            \n",
    "        hyperparams_table = []\n",
    "        # 2. Dla każdego zestawu hiperparametrów:\n",
    "        for hyperparams in generator_function(generator_function_kwargs):\n",
    "            # 1. Dla każdego podziału (X_train2,y_train2), (X_valid,y_valid):\n",
    "            for train2, valid in inner_splits:\n",
    "                X_train2, y_train2 = X[train2], y[train2]\n",
    "                X_valid, y_valid = X[valid], y[valid]\n",
    "\n",
    "                # 1. Tworzymy model = Model(zestaw_hiperparametrów).\n",
    "                model = Model(**hyperparams)\n",
    "                # 2. Uczymy model na (X_train2,y_train2), testujemy na (X_valid,y_valid) i otrzymujemy score.\n",
    "                model.fit(X_train2, y_train2)\n",
    "                score = metric(y_valid, model.predict(X_valid))\n",
    "                # 3. (zestaw_hiperparametrów, score) zapisujemy w tabelce.\n",
    "                hyperparams_table.append((hyperparams, score))\n",
    "        # 3. Dla każdego zestawu hiperparametrów mamy trzy różne score z trzech podziałów - uśredniamy je.\n",
    "        hyperparams_means = []\n",
    "        means = []\n",
    "        for hyperparams, score in hyperparams_table:\n",
    "            mean = np.mean(score)\n",
    "            hyperparams_means.append((hyperparams, mean))\n",
    "            means.append(mean)\n",
    "        # 4. Wybieramy średnio najlepszy zestaw hiperparametrów.\n",
    "        best_hyperparams = next((hyperparams for hyperparams in hyperparams_means if hyperparams[1] == max(means)), None)\n",
    "        # 5. Tworzymy model = Model(średnio_najlepszy_zestaw_hiperparametrów) i uczymy na całym (X_train,y_train).\n",
    "        model = Model(**best_hyperparams[0])\n",
    "        model.fit(X_train, y_train)\n",
    "        # 6. Testujemy model na (X_test,y_test) i otrzymujemy evaluation_score, zapisujemy go.\n",
    "        evaluation_score = metric(y_test, model.predict(X_test))\n",
    "        scores.append(evaluation_score)\n",
    "    # 3. Uśredniamy trzy evaluation_score, zwracamy średnią jako ostateczny score Modelu.\n",
    "    score = np.mean(scores)\n",
    "    return score"
   ]
  },
  {
   "cell_type": "markdown",
   "metadata": {},
   "source": [
    "## Ćwiczenie 4 [2 pkt]\n",
    "\n",
    "Przy użyciu powyższych funkcji wytrenować porządnie na danych MNIST jeden (dowolnie wybrany) z poniższych modelów:\n",
    "* LinearSVM,\n",
    "* SVM,\n",
    "* RandomForest,\n",
    "* KNN.\n",
    "\n",
    "Zwrócić model i jego estymowany score.\n",
    "\n",
    "[Możemy wspólnie zastanowić się nad sensownym doborem gridów/rozkładów na hiperparametrach.]"
   ]
  },
  {
   "cell_type": "code",
   "execution_count": 36,
   "metadata": {
    "collapsed": false
   },
   "outputs": [
    {
     "name": "stdout",
     "output_type": "stream",
     "text": [
      "0.906665291851\n"
     ]
    }
   ],
   "source": [
    "idx = np.random.RandomState(743).permutation(len(y))\n",
    "_X = X[idx[:3000]]\n",
    "_y = y[idx[:3000]]\n",
    "\n",
    "score = double_skf_model_evaluation(\n",
    "    Model = KNeighborsClassifier,\n",
    "    generator_function = grid_search,\n",
    "    generator_function_kwargs = {'n_neighbors': [2,5,8], 'leaf_size': [20,30,40]},\n",
    "    X = _X, y = _y,\n",
    "    metric = accuracy_score,\n",
    "    selection_n_splits = 2, evaluation_n_splits = 2,\n",
    "    random_state = 43)\n",
    "print score"
   ]
  },
  {
   "cell_type": "markdown",
   "metadata": {},
   "source": [
    "## Data augmentation\n",
    "\n",
    "Model zawsze nauczy się lepiej na większym zbiorze danych. Przez data augmentation rozumiemy cały zbiór technik, które pozwalają \"sztucznie\" niskim kosztem powiększyć dataset. Oczywiście musimy znać etykiety nowowygenerowanych danych. Zazwyczaj działamy w następujący sposób: definiujemy operację, którą możemy zadziałać na pojedynczy $\\mathbf{x}$ bez zmiany odpowiadającego mu $y$, a następnie generujemy z jednego $\\mathbf{x}$ dużo wersji i każdej przypisujemy to samo $y$.\n",
    "\n",
    "Kilka prostych przykładów:\n",
    "* rozpoznawanie mowy ($\\mathbf{x}$ - zapis dźwiękowy, $y$ - tekst wypowiadany przez lektora) - zmieniamy szybkość mówienia, zmieniamy wysokość dźwięku itp.\n",
    "* klasyfikacja obrazków - obracamy obrazki, odbijamy symetrycznie, dodajemy szum, zmieniamy nieco paletę barw itp.\n",
    "\n",
    "Spróbujmy zobaczyć dla przykładu, co się stanie, gdy dodamy gaussowski szum do MNISTa."
   ]
  },
  {
   "cell_type": "code",
   "execution_count": 37,
   "metadata": {
    "collapsed": false
   },
   "outputs": [],
   "source": [
    "mnist = fetch_mldata('MNIST original')\n",
    "X = mnist[\"data\"]\n",
    "y = mnist[\"target\"]\n",
    "idx = np.random.permutation(len(y))\n",
    "X = X[idx[:3000]]\n",
    "y = y[idx[:3000]]"
   ]
  },
  {
   "cell_type": "code",
   "execution_count": 38,
   "metadata": {
    "collapsed": false
   },
   "outputs": [
    {
     "name": "stdout",
     "output_type": "stream",
     "text": [
      "fitting KNN (no augmentation)\n",
      "train accuracy: 1.0\n",
      "test accuracy: 0.911111111111\n"
     ]
    }
   ],
   "source": [
    "X_train, X_test, y_train, y_test = train_test_split(X, y, test_size=0.33, random_state=43)\n",
    "\n",
    "model = KNeighborsClassifier(n_neighbors=1)\n",
    "print \"fitting KNN (no augmentation)\"\n",
    "model.fit(X_train, y_train)\n",
    "print \"train accuracy:\", accuracy_score(y_train, model.predict(X_train))\n",
    "print \"test accuracy:\", accuracy_score(y_test, model.predict(X_test))"
   ]
  },
  {
   "cell_type": "code",
   "execution_count": 39,
   "metadata": {
    "collapsed": false
   },
   "outputs": [
    {
     "name": "stdout",
     "output_type": "stream",
     "text": [
      "Augmenting data...\n"
     ]
    },
    {
     "data": {
      "image/png": "[encoded data removed]",
      "text/plain": [
       "<matplotlib.figure.Figure at 0x10dd05850>"
      ]
     },
     "metadata": {},
     "output_type": "display_data"
    },
    {
     "data": {
      "image/png": "[encoded data removed]",
      "text/plain": [
       "<matplotlib.figure.Figure at 0x1007112d0>"
      ]
     },
     "metadata": {},
     "output_type": "display_data"
    }
   ],
   "source": [
    "print \"Augmenting data...\"\n",
    "_X = [X.copy()]\n",
    "_y = [y.copy()]\n",
    "for i in xrange(7):\n",
    "    _X.append(X.copy() + np.random.normal(scale=3, size=X.shape))\n",
    "    _y.append(y.copy())\n",
    "X_aug = np.vstack(_X)\n",
    "y_aug = np.hstack(_y)\n",
    "\n",
    "plt.imshow(X[-1].reshape(28,28), cmap=\"gray\")\n",
    "plt.show()\n",
    "plt.imshow(X_aug[-1].reshape(28,28), cmap=\"gray\")\n",
    "plt.show()"
   ]
  },
  {
   "cell_type": "code",
   "execution_count": 40,
   "metadata": {
    "collapsed": false
   },
   "outputs": [
    {
     "name": "stdout",
     "output_type": "stream",
     "text": [
      "fitting KNN (with augmentation)\n",
      "train accuracy: 1.0\n",
      "test accuracy: 1.0\n"
     ]
    }
   ],
   "source": [
    "X_train, X_test, y_train, y_test = train_test_split(X_aug, y_aug, test_size=0.33, random_state=43)\n",
    "\n",
    "model = KNeighborsClassifier(n_neighbors=1)\n",
    "print \"fitting KNN (with augmentation)\"\n",
    "model.fit(X_train, y_train)\n",
    "print \"train accuracy:\", accuracy_score(y_train, model.predict(X_train))\n",
    "print \"test accuracy:\", accuracy_score(y_test, model.predict(X_test))"
   ]
  },
  {
   "cell_type": "markdown",
   "metadata": {},
   "source": [
    "Hurra! Po dodaniu stosunkowo prostej augmentacji danych nasz model nauczył się perfekcyjnie generalizować na zbiór testowy! I nie musieliśmy tu stosować żadnej skomplikowanej sieci neuronowej, wystarczył KNN."
   ]
  },
  {
   "cell_type": "markdown",
   "metadata": {},
   "source": [
    "## Ćwiczenie 5 (4 pkt)\n",
    "\n",
    "Wytłumaczyć, na czym polega błąd w powyższym rozumowaniu."
   ]
  },
  {
   "cell_type": "markdown",
   "metadata": {},
   "source": [
    "## Ad 5\n",
    "Błąd w rozumowaniu polega na tym, że gdy zwiększemy ilość danych przez *Data augmentation*, dane te są do siebie **zbyt podobne**, więc nie powinniśmy używać ich do testowania modelu, a jedynie do jego uczenia."
   ]
  }
 ],
 "metadata": {
  "kernelspec": {
   "display_name": "Python 2",
   "language": "python",
   "name": "python2"
  },
  "language_info": {
   "codemirror_mode": {
    "name": "ipython",
    "version": 2
   },
   "file_extension": ".py",
   "mimetype": "text/x-python",
   "name": "python",
   "nbconvert_exporter": "python",
   "pygments_lexer": "ipython2",
   "version": "2.7.13"
  }
 },
 "nbformat": 4,
 "nbformat_minor": 2
}
