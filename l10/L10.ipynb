{
 "cells": [
  {
   "cell_type": "markdown",
   "metadata": {},
   "source": [
    "# L10\n",
    "\n",
    "Sieci neuronowe - ciąg dalszy.\n",
    "\n",
    "Na tych (i prawdopodobnie też następnych) ćwiczeniach omówimy:\n",
    "* wielowarstwową sieć neuronową,\n",
    "* funkcje aktywacji: ReLU, sigmoid,\n",
    "* funkcja kosztu (cross-entropy) vs metryka,\n",
    "* backpropagation,\n",
    "* SGD oraz Momentum,\n",
    "* problem vanishing gradient."
   ]
  },
  {
   "cell_type": "markdown",
   "metadata": {
    "collapsed": true
   },
   "source": [
    "Podział materiału:\n",
    "* L10a - uczenie gradientowe,\n",
    "* L10b - backpropagation - omówienie warstw,\n",
    "* L10c - zadania."
   ]
  }
 ],
 "metadata": {
  "kernelspec": {
   "display_name": "Python 2",
   "language": "python2",
   "name": "python2"
  },
  "language_info": {
   "codemirror_mode": {
    "name": "ipython",
    "version": 2
   },
   "file_extension": ".py",
   "mimetype": "text/x-python",
   "name": "python",
   "nbconvert_exporter": "python",
   "pygments_lexer": "ipython2",
   "version": "2.7.13"
  }
 },
 "nbformat": 4,
 "nbformat_minor": 2
}
